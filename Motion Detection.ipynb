{
 "cells": [
  {
   "cell_type": "code",
   "execution_count": 1,
   "metadata": {},
   "outputs": [],
   "source": [
    "import cv2\n",
    "import numpy as np"
   ]
  },
  {
   "cell_type": "code",
   "execution_count": 11,
   "metadata": {},
   "outputs": [],
   "source": [
    "\n",
    "w = 800\n",
    "h = 600\n",
    "cap = cv2.VideoCapture(0)\n",
    "\n",
    "cap.set(3,w)\n",
    "cap.set(4,h)\n",
    "\n",
    "# print(cap.get(3))\n",
    "# print(cap.get(4))\n",
    "\n",
    "\n",
    "if cap.isOpened():\n",
    "    ret,frame = cap.read()\n",
    "else:\n",
    "    ret = False\n",
    "\n",
    "    \n",
    "ret,frame1 = cap.read()\n",
    "ret, frame2 = cap.read()\n",
    "\n",
    "\n",
    "while ret:\n",
    "    \n",
    "    d = cv2.absdiff(frame1,frame2)\n",
    "    gray = cv2.cvtColor(d,cv2.COLOR_BGR2GRAY)\n",
    "    gaussian_blur = cv2.GaussianBlur(gray,(5,5),0)\n",
    "    ret,th = cv2.threshold(gaussian_blur,\n",
    "                          20,255,\n",
    "                          cv2.THRESH_BINARY)\n",
    "    \n",
    "    dilation = cv2.dilate(th,np.ones((3,3),np.uint8),iterations = 8)\n",
    "    erosion = cv2.erode(dilation,np.ones((3,3),np.uint8),iterations = 8)\n",
    "    \n",
    "    c, h = cv2.findContours(erosion,cv2.RETR_TREE,cv2.CHAIN_APPROX_SIMPLE)\n",
    "    \n",
    "    contour = cv2.drawContours(frame1,c,-1,(255,0,0))\n",
    "    \n",
    "    frame3 =frame1\n",
    "    \n",
    "#     cv2.imshow(\"Gray Img of differences\",gray)\n",
    "#     cv2.imshow(\"Differnce b/w two frames\",d)\n",
    "    cv2.imshow(\"Original \" , frame2)\n",
    "#     cv2.imshow(\"After Gaussian Blur\",gaussian_blur)\n",
    "    cv2.imshow(\"Threshold\",th)\n",
    "#     cv2.imshow(\"Dilated\" , dilation)\n",
    "    cv2.imshow('Output',contour)\n",
    "\n",
    "    if cv2.waitKey(1)==13:\n",
    "        break\n",
    "    \n",
    "    frame1 = frame2\n",
    "    ret , frame2 = cap.read()\n",
    "    \n",
    "cap.release()\n",
    "cv2.destroyAllWindows()\n"
   ]
  },
  {
   "cell_type": "code",
   "execution_count": null,
   "metadata": {},
   "outputs": [],
   "source": []
  }
 ],
 "metadata": {
  "kernelspec": {
   "display_name": "Python 3",
   "language": "python",
   "name": "python3"
  },
  "language_info": {
   "codemirror_mode": {
    "name": "ipython",
    "version": 3
   },
   "file_extension": ".py",
   "mimetype": "text/x-python",
   "name": "python",
   "nbconvert_exporter": "python",
   "pygments_lexer": "ipython3",
   "version": "3.6.9"
  }
 },
 "nbformat": 4,
 "nbformat_minor": 2
}
