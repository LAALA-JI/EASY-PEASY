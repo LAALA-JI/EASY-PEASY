{
 "cells": [
  {
   "cell_type": "code",
   "execution_count": 1,
   "metadata": {},
   "outputs": [],
   "source": [
    "import cv2 \n",
    "import numpy as np"
   ]
  },
  {
   "cell_type": "code",
   "execution_count": 3,
   "metadata": {},
   "outputs": [],
   "source": [
    "\n",
    "def sketch(img):\n",
    "#     convert the image to grayscale\n",
    "    img_gray = cv2.cvtColor(img , cv2.COLOR_BGR2GRAY)\n",
    "    \n",
    "#     Cleaning up the image using Gaussian blur\n",
    "    img_gray_blur  =  cv2.GaussianBlur(img_gray,(5,5) , 0)\n",
    "    \n",
    "#     Extract edges \n",
    "    canny_edges = cv2.Canny(img_gray_blur,10,70)\n",
    "    \n",
    "#     Doing an Invert Binarization of Image \n",
    "    ret,mask = cv2.threshold(canny_edges , 70 , 255 , cv2.THRESH_BINARY_INV)\n",
    "    return mask\n",
    "\n",
    "\n",
    "# Initializing the WebCam , where cap is the object of VideoCapture\n",
    "# It contains a boolean (ret) indicating if it was successful or not\n",
    "# It also contains the images(frames) from the webcam.\n",
    "cap = cv2.VideoCapture(0)\n",
    "\n",
    "while True:\n",
    "    ret,frame = cap.read()\n",
    "    cv2.imshow(\"Our live Sketcher\",sketch(frame))\n",
    "    if cv2.waitKey(1) == 13 : #13 is the enter key\n",
    "        break\n",
    "\n",
    "        \n",
    "# Release camera and Close windows\n",
    "cap.release()    \n",
    "cv2.destroyAllWindows()"
   ]
  }
 ],
 "metadata": {
  "kernelspec": {
   "display_name": "Python 3",
   "language": "python",
   "name": "python3"
  },
  "language_info": {
   "codemirror_mode": {
    "name": "ipython",
    "version": 3
   },
   "file_extension": ".py",
   "mimetype": "text/x-python",
   "name": "python",
   "nbconvert_exporter": "python",
   "pygments_lexer": "ipython3",
   "version": "3.6.9"
  }
 },
 "nbformat": 4,
 "nbformat_minor": 2
}
